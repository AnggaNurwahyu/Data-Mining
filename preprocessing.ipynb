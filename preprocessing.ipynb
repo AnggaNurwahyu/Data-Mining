{
 "cells": [
  {
   "cell_type": "markdown",
   "id": "e81eb420-1f18-4160-9e70-c6d59db149f2",
   "metadata": {},
   "source": [
    "### ANGGA NURWAHYU UTOMO\n",
    "### A11.2022.14575"
   ]
  },
  {
   "cell_type": "markdown",
   "id": "ab9b1179-11d5-4434-bff2-69d1a84b208b",
   "metadata": {},
   "source": [
    "### Import Library"
   ]
  },
  {
   "cell_type": "code",
   "execution_count": 234,
   "id": "87621033-ec97-442c-a9c4-9081c08859a1",
   "metadata": {},
   "outputs": [],
   "source": [
    "import numpy as np\n",
    "import matplotlib.pyplot as plt\n",
    "import pandas as pd"
   ]
  },
  {
   "cell_type": "markdown",
   "id": "c83602e5-be92-4931-af51-7b662cfac38f",
   "metadata": {},
   "source": [
    "### Import Dataset"
   ]
  },
  {
   "cell_type": "code",
   "execution_count": 235,
   "id": "f07131ed-ef22-4246-8f5f-207c18a42874",
   "metadata": {},
   "outputs": [],
   "source": [
    "dataset = pd.read_csv('Data.csv')\n",
    "X = dataset.iloc[:, :-1].values\n",
    "Y = dataset.iloc[:, -1].values"
   ]
  },
  {
   "cell_type": "code",
   "execution_count": 236,
   "id": "e4dd5a07-754b-47df-9f0a-c08cba951507",
   "metadata": {},
   "outputs": [
    {
     "name": "stdout",
     "output_type": "stream",
     "text": [
      "[['Malaysia' 23.0 45000.0]\n",
      " ['Japan' 54.0 28000.0]\n",
      " ['Malaysia' nan 69000.0]\n",
      " ['China' 70.0 nan]\n",
      " ['German' 80.0 99000.0]\n",
      " ['China' nan 30000.0]\n",
      " ['Korea' 55.0 82000.0]\n",
      " ['Japan' 12.0 12000.0]\n",
      " ['China' 77.0 nan]\n",
      " ['Ukraina' 41.0 89000.0]]\n"
     ]
    }
   ],
   "source": [
    "print(X)"
   ]
  },
  {
   "cell_type": "code",
   "execution_count": 237,
   "id": "50bf2847-c2ae-45e2-91df-8f78b0d42c19",
   "metadata": {},
   "outputs": [
    {
     "name": "stdout",
     "output_type": "stream",
     "text": [
      "['Yes' 'No' 'No' 'Yes' 'Yes' 'Yes' 'Yes' 'Yes' 'No' 'No']\n"
     ]
    }
   ],
   "source": [
    "print(Y)"
   ]
  },
  {
   "cell_type": "markdown",
   "id": "ee35d39a-336b-4e02-96f0-624854546212",
   "metadata": {},
   "source": [
    "### 1. Menghilangkan Missing Value (nan)"
   ]
  },
  {
   "cell_type": "code",
   "execution_count": 238,
   "id": "353ad9a7-d1f7-4195-b2c1-9e40d89db698",
   "metadata": {},
   "outputs": [],
   "source": [
    "from sklearn.impute import SimpleImputer\n",
    "imputer = SimpleImputer(missing_values=np.nan, strategy='mean')\n",
    "imputer.fit(X[:, 1:3])\n",
    "X[:, 1:3] = imputer.transform(X[:, 1:3])"
   ]
  },
  {
   "cell_type": "code",
   "execution_count": 239,
   "id": "c4d759b5-7905-42ec-b457-881aaa258c6c",
   "metadata": {},
   "outputs": [
    {
     "name": "stdout",
     "output_type": "stream",
     "text": [
      "[['Malaysia' 23.0 45000.0]\n",
      " ['Japan' 54.0 28000.0]\n",
      " ['Malaysia' 51.5 69000.0]\n",
      " ['China' 70.0 56750.0]\n",
      " ['German' 80.0 99000.0]\n",
      " ['China' 51.5 30000.0]\n",
      " ['Korea' 55.0 82000.0]\n",
      " ['Japan' 12.0 12000.0]\n",
      " ['China' 77.0 56750.0]\n",
      " ['Ukraina' 41.0 89000.0]]\n"
     ]
    }
   ],
   "source": [
    "print(X)"
   ]
  },
  {
   "cell_type": "markdown",
   "id": "500061a2-4dbc-4e41-87f2-5c3c93d4b78d",
   "metadata": {},
   "source": [
    "### 2. Encoding Data Kategori (Atribut)"
   ]
  },
  {
   "cell_type": "code",
   "execution_count": 240,
   "id": "2208109b-4ede-4482-99c1-20526ca55ac5",
   "metadata": {},
   "outputs": [],
   "source": [
    "from sklearn.compose import ColumnTransformer \n",
    "from sklearn.preprocessing import OneHotEncoder\n",
    "ct = ColumnTransformer (transformers=[('encoder', OneHotEncoder (), [0])], remainder= 'passthrough')\n",
    "X = np. array(ct.fit_transform(X))"
   ]
  },
  {
   "cell_type": "code",
   "execution_count": 241,
   "id": "dd7fe364-c192-4ca9-82a2-8f1ea32f58b4",
   "metadata": {},
   "outputs": [
    {
     "name": "stdout",
     "output_type": "stream",
     "text": [
      "[[0.0 0.0 0.0 0.0 1.0 0.0 23.0 45000.0]\n",
      " [0.0 0.0 1.0 0.0 0.0 0.0 54.0 28000.0]\n",
      " [0.0 0.0 0.0 0.0 1.0 0.0 51.5 69000.0]\n",
      " [1.0 0.0 0.0 0.0 0.0 0.0 70.0 56750.0]\n",
      " [0.0 1.0 0.0 0.0 0.0 0.0 80.0 99000.0]\n",
      " [1.0 0.0 0.0 0.0 0.0 0.0 51.5 30000.0]\n",
      " [0.0 0.0 0.0 1.0 0.0 0.0 55.0 82000.0]\n",
      " [0.0 0.0 1.0 0.0 0.0 0.0 12.0 12000.0]\n",
      " [1.0 0.0 0.0 0.0 0.0 0.0 77.0 56750.0]\n",
      " [0.0 0.0 0.0 0.0 0.0 1.0 41.0 89000.0]]\n"
     ]
    }
   ],
   "source": [
    "print(X)"
   ]
  },
  {
   "cell_type": "markdown",
   "id": "576a2078-aba2-498e-bdce-d0c3eb4af63b",
   "metadata": {},
   "source": [
    "### 3. Encoding Data Kategori (Class/Label)"
   ]
  },
  {
   "cell_type": "code",
   "execution_count": 242,
   "id": "dc6a8cfd-8c69-4077-ba2f-1b3f9d45418e",
   "metadata": {},
   "outputs": [],
   "source": [
    "from sklearn.preprocessing import LabelEncoder\n",
    "le = LabelEncoder ()\n",
    "Y = le.fit_transform (Y)"
   ]
  },
  {
   "cell_type": "code",
   "execution_count": 243,
   "id": "0fd24a2f-c2d7-4b48-a1eb-620a91085eaf",
   "metadata": {},
   "outputs": [
    {
     "name": "stdout",
     "output_type": "stream",
     "text": [
      "[1 0 0 1 1 1 1 1 0 0]\n"
     ]
    }
   ],
   "source": [
    "print(Y)"
   ]
  },
  {
   "cell_type": "markdown",
   "id": "45e464a4-b8a2-41cb-a0a0-cb08f84fc42f",
   "metadata": {},
   "source": [
    "### 4. Membagi Dataset ke dalam Training Set dan Test Set"
   ]
  },
  {
   "cell_type": "code",
   "execution_count": 244,
   "id": "3efdbe1c-05cd-4696-883f-cf5e7d8e48c3",
   "metadata": {},
   "outputs": [],
   "source": [
    "from sklearn.model_selection import train_test_split\n",
    "X_train, X_test, Y_train, Y_test = train_test_split(X, Y, test_size = 0.2, random_state = 1)"
   ]
  },
  {
   "cell_type": "code",
   "execution_count": 245,
   "id": "bcb0ac3c-1b4e-44bb-ac8d-1e8dccc96cbd",
   "metadata": {},
   "outputs": [
    {
     "name": "stdout",
     "output_type": "stream",
     "text": [
      "[[0.0 0.0 0.0 1.0 0.0 0.0 55.0 82000.0]\n",
      " [0.0 1.0 0.0 0.0 0.0 0.0 80.0 99000.0]\n",
      " [0.0 0.0 0.0 0.0 1.0 0.0 23.0 45000.0]\n",
      " [1.0 0.0 0.0 0.0 0.0 0.0 70.0 56750.0]\n",
      " [0.0 0.0 1.0 0.0 0.0 0.0 54.0 28000.0]\n",
      " [0.0 0.0 1.0 0.0 0.0 0.0 12.0 12000.0]\n",
      " [1.0 0.0 0.0 0.0 0.0 0.0 77.0 56750.0]\n",
      " [1.0 0.0 0.0 0.0 0.0 0.0 51.5 30000.0]]\n"
     ]
    }
   ],
   "source": [
    "print(X_train)"
   ]
  },
  {
   "cell_type": "code",
   "execution_count": 246,
   "id": "b8d6b56b-412a-4634-aeee-33c55d2469bb",
   "metadata": {},
   "outputs": [
    {
     "name": "stdout",
     "output_type": "stream",
     "text": [
      "[1 1 1 1 0 1 0 1]\n"
     ]
    }
   ],
   "source": [
    "print(Y_train)"
   ]
  },
  {
   "cell_type": "code",
   "execution_count": 247,
   "id": "4cda75e2-10fb-428d-9f88-2e5c79d34511",
   "metadata": {},
   "outputs": [
    {
     "name": "stdout",
     "output_type": "stream",
     "text": [
      "[[0.0 0.0 0.0 0.0 1.0 0.0 51.5 69000.0]\n",
      " [0.0 0.0 0.0 0.0 0.0 1.0 41.0 89000.0]]\n"
     ]
    }
   ],
   "source": [
    "print(X_test)"
   ]
  },
  {
   "cell_type": "code",
   "execution_count": 248,
   "id": "957302bb-a731-42cf-a07a-9c2d41ec3420",
   "metadata": {},
   "outputs": [
    {
     "name": "stdout",
     "output_type": "stream",
     "text": [
      "[0 0]\n"
     ]
    }
   ],
   "source": [
    "print(Y_test)"
   ]
  },
  {
   "cell_type": "markdown",
   "id": "48db1142-024a-4394-a862-481052ed6361",
   "metadata": {},
   "source": [
    "### 5. Feature Scaling"
   ]
  },
  {
   "cell_type": "code",
   "execution_count": 249,
   "id": "3d01d4f3-b678-457e-9f93-581069746e96",
   "metadata": {},
   "outputs": [],
   "source": [
    "from sklearn.preprocessing import StandardScaler\n",
    "sc = StandardScaler()\n",
    "X_train[:, 3:] = sc.fit_transform(X_train[:, 3:])\n",
    "X_test[:, 3:] = sc.transform(X_test[:, 3:])"
   ]
  },
  {
   "cell_type": "code",
   "execution_count": 250,
   "id": "e5a93e2b-3bd8-445f-bae2-942ec974d60c",
   "metadata": {},
   "outputs": [
    {
     "name": "stdout",
     "output_type": "stream",
     "text": [
      "[[0.0 0.0 0.0 2.6457513110645903 -0.3779644730092272 0.0\n",
      "  0.09567592365379686 1.1386835285450903]\n",
      " [0.0 1.0 0.0 -0.3779644730092272 -0.3779644730092272 0.0\n",
      "  1.1891150511257609 1.7669227167078987]\n",
      " [0.0 0.0 0.0 -0.3779644730092272 2.6457513110645903 0.0\n",
      "  -1.303926159510317 -0.22866058686808102]\n",
      " [1.0 0.0 0.0 -0.3779644730092272 -0.3779644730092272 0.0\n",
      "  0.7517394001369753 0.20556355789150718]\n",
      " [0.0 0.0 1.0 -0.3779644730092272 -0.3779644730092272 0.0\n",
      "  0.051938358554918296 -0.8568997750308894]\n",
      " [0.0 0.0 1.0 -0.3779644730092272 -0.3779644730092272 0.0\n",
      "  -1.7850393755979814 -1.4481837168311797]\n",
      " [1.0 0.0 0.0 -0.3779644730092272 -0.3779644730092272 0.0\n",
      "  1.0579023558291252 0.20556355789150718]\n",
      " [1.0 0.0 0.0 -0.3779644730092272 -0.3779644730092272 0.0\n",
      "  -0.057405554192278115 -0.7829892823058532]]\n"
     ]
    }
   ],
   "source": [
    "print(X_train)"
   ]
  },
  {
   "cell_type": "code",
   "execution_count": 251,
   "id": "023c1ca0-6f29-4c3a-9743-33c48f7a26a7",
   "metadata": {},
   "outputs": [
    {
     "name": "stdout",
     "output_type": "stream",
     "text": [
      "[[0.0 0.0 0.0 -0.3779644730092272 2.6457513110645903 0.0\n",
      "  -0.057405554192278115 0.6582653258323544]\n",
      " [0.0 0.0 0.0 -0.3779644730092272 -0.3779644730092272 1.0\n",
      "  -0.5166499877305031 1.3973702530827175]]\n"
     ]
    }
   ],
   "source": [
    "print(X_test)"
   ]
  },
  {
   "cell_type": "code",
   "execution_count": null,
   "id": "35cd56e1-abfa-47ee-b57b-e285ded8228f",
   "metadata": {},
   "outputs": [],
   "source": []
  }
 ],
 "metadata": {
  "kernelspec": {
   "display_name": "Python 3",
   "language": "python",
   "name": "python3"
  },
  "language_info": {
   "codemirror_mode": {
    "name": "ipython",
    "version": 3
   },
   "file_extension": ".py",
   "mimetype": "text/x-python",
   "name": "python",
   "nbconvert_exporter": "python",
   "pygments_lexer": "ipython3",
   "version": "3.12.1"
  },
  "widgets": {
   "application/vnd.jupyter.widget-state+json": {
    "state": {},
    "version_major": 2,
    "version_minor": 0
   }
  }
 },
 "nbformat": 4,
 "nbformat_minor": 5
}
